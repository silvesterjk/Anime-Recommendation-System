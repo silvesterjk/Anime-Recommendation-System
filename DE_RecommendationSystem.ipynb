{
 "cells": [
  {
   "cell_type": "code",
   "execution_count": 12,
   "id": "87075e28",
   "metadata": {},
   "outputs": [
    {
     "name": "stdout",
     "output_type": "stream",
     "text": [
      "                                          Anime name Rating\n",
      "0                                 Naruto: Shippuuden   8.16\n",
      "1                    Boruto: Jump Festa 2016 Special   6.22\n",
      "2                                        Naruto x UT    7.4\n",
      "3             Naruto: Shippuuden - Sunny Side Battle   7.43\n",
      "4  Boruto: Naruto the Movie - Naruto ga Hokage ni...    7.4\n",
      "5  Dragon Ball GT: Gokuu Gaiden! Yuuki no Akashi ...   6.54\n",
      "6               Dragon Ball Z: Atsumare! Gokuu World   6.48\n",
      "7             Dragon Ball Z: Summer Vacation Special   6.62\n",
      "8                             Dragon Ball Kai (2014)   7.69\n",
      "9            Dragon Ball Z Movie 15: Fukkatsu no \"F\"   7.11\n"
     ]
    }
   ],
   "source": [
    "import psycopg2\n",
    "import pandas as pd\n",
    "from sklearn.feature_extraction.text import TfidfVectorizer\n",
    "from sklearn.metrics.pairwise import sigmoid_kernel\n",
    "from sqlalchemy import create_engine\n",
    "\n",
    "\n",
    "# PostgreSQL database connection settings\n",
    "db_host = 'localhost'\n",
    "db_port = '5432'\n",
    "db_name = 'anime-table2'\n",
    "db_user = 'postgres'\n",
    "db_password = 'password'\n",
    "\n",
    "# Create the SQLAlchemy engine\n",
    "engine = create_engine(f'postgresql://{db_user}:{db_password}@{db_host}:{db_port}/{db_name}')\n",
    "\n",
    "# Query to fetch the anime_data from the database\n",
    "query = \"SELECT * FROM anime_table2\"\n",
    "\n",
    "# Execute the query and fetch the results into a pandas DataFrame\n",
    "anime_data = pd.read_sql_query(query, con=engine)\n",
    "\n",
    "# Close the database connection\n",
    "conn.close()\n",
    "\n",
    "# Initialize the TfidfVectorizer with various parameters\n",
    "tfv = TfidfVectorizer(min_df=3, max_features=None, \n",
    "                      strip_accents='unicode', analyzer='word', token_pattern=r'\\w{1,}',\n",
    "                      ngram_range=(1, 3),\n",
    "                      stop_words='english')\n",
    "\n",
    "# Fill NaN values in the 'Genres' column with an empty string\n",
    "anime_data.loc[:, 'Genres'] = anime_data['Genres'].fillna('')\n",
    "\n",
    "# Split the 'Genres' column by comma and convert to string format\n",
    "genres_str = anime_data['Genres'].str.split(',').astype(str)\n",
    "\n",
    "# Use the TfidfVectorizer to transform the genres_str into a sparse matrix\n",
    "tfv_matrix = tfv.fit_transform(genres_str)\n",
    "\n",
    "# Compute the sigmoid kernel\n",
    "sig = sigmoid_kernel(tfv_matrix, tfv_matrix)\n",
    "\n",
    "# Create a Pandas Series object where the index is the anime names and the values are the indices in anime_data\n",
    "indices = pd.Series(anime_data.index, index=anime_data['anime_title'])\n",
    "\n",
    "# Remove duplicates in the index (i.e., duplicate anime names)\n",
    "indices = indices.drop_duplicates()\n",
    "\n",
    "def give_rec(title, sig=sig):\n",
    "    # Get the index corresponding to anime title\n",
    "    idx = indices[title]\n",
    "\n",
    "    # Get the pairwise similarity scores \n",
    "    sig_scores = list(enumerate(sig[idx]))\n",
    "\n",
    "    # Sort the anime based on similarity scores\n",
    "    sig_scores = sorted(sig_scores, key=lambda x: x[1], reverse=True)\n",
    "\n",
    "    # Get the indices of top 10 most similar anime excluding the input anime\n",
    "    anime_indices = [i[0] for i in sig_scores[1:11]]\n",
    "\n",
    "    # Create dataframe of top 10 recommended anime\n",
    "    top_anime = pd.DataFrame({\n",
    "        'Anime name': anime_data['anime_title'].iloc[anime_indices].values,\n",
    "        'Rating': anime_data['Score'].iloc[anime_indices].values\n",
    "    })\n",
    "\n",
    "    return top_anime\n",
    "\n",
    "recommendations = give_rec('Naruto')\n",
    "print(recommendations)"
   ]
  },
  {
   "cell_type": "code",
   "execution_count": null,
   "id": "fdf031b8",
   "metadata": {},
   "outputs": [],
   "source": [
    "# import numpy as np\n",
    "# import pandas as pd\n",
    "# import re\n",
    "\n",
    "# anime_list = pd.read_csv(\"myanimelist_data.csv\")\n",
    "\n",
    "# anime_list.info()"
   ]
  },
  {
   "cell_type": "code",
   "execution_count": null,
   "id": "343d3b2a",
   "metadata": {},
   "outputs": [],
   "source": [
    "# anime_list.head()"
   ]
  }
 ],
 "metadata": {
  "kernelspec": {
   "display_name": "Python 3 (ipykernel)",
   "language": "python",
   "name": "python3"
  },
  "language_info": {
   "codemirror_mode": {
    "name": "ipython",
    "version": 3
   },
   "file_extension": ".py",
   "mimetype": "text/x-python",
   "name": "python",
   "nbconvert_exporter": "python",
   "pygments_lexer": "ipython3",
   "version": "3.10.9"
  }
 },
 "nbformat": 4,
 "nbformat_minor": 5
}
